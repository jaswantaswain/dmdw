{
  "nbformat": 4,
  "nbformat_minor": 0,
  "metadata": {
    "colab": {
      "name": "Untitled0.ipynb",
      "provenance": [],
      "collapsed_sections": [],
      "authorship_tag": "ABX9TyO4mH5wX/35yzuco/flx8sU",
      "include_colab_link": true
    },
    "kernelspec": {
      "name": "python3",
      "display_name": "Python 3"
    },
    "language_info": {
      "name": "python"
    }
  },
  "cells": [
    {
      "cell_type": "markdown",
      "metadata": {
        "id": "view-in-github",
        "colab_type": "text"
      },
      "source": [
        "<a href=\"https://colab.research.google.com/github/jaswantaswain/dmdw/blob/main/assignment1.ipynb\" target=\"_parent\"><img src=\"https://colab.research.google.com/assets/colab-badge.svg\" alt=\"Open In Colab\"/></a>"
      ]
    },
    {
      "cell_type": "code",
      "metadata": {
        "colab": {
          "base_uri": "https://localhost:8080/"
        },
        "id": "1WlutREoZk3j",
        "outputId": "8faf0bee-27cd-406b-e457-5937dc5e8d63"
      },
      "source": [
        "n_num = [1, 15,34,5]\n",
        "n = len(n_num)\n",
        "  \n",
        "get_sum = sum(n_num)\n",
        "mean = get_sum / n\n",
        "  \n",
        "print(\"Mean : \" + str(mean))"
      ],
      "execution_count": 8,
      "outputs": [
        {
          "output_type": "stream",
          "name": "stdout",
          "text": [
            "Mean : 13.75\n"
          ]
        }
      ]
    },
    {
      "cell_type": "code",
      "metadata": {
        "colab": {
          "base_uri": "https://localhost:8080/"
        },
        "id": "QKvD1IQYbkR9",
        "outputId": "13082300-ea34-40f4-edcf-eab1c7299f61"
      },
      "source": [
        "n_num = [1, 2, 3, 4, 5]\n",
        "n = len(n_num)\n",
        "n_num.sort()\n",
        "  \n",
        "if n % 2 == 0:\n",
        "    median1 = n_num[n//2]\n",
        "    median2 = n_num[n//2 - 1]\n",
        "    median = (median1 + median2)/2\n",
        "else:\n",
        "    median = n_num[n//2]\n",
        "print(\"Median is: \" + str(median))"
      ],
      "execution_count": 4,
      "outputs": [
        {
          "output_type": "stream",
          "name": "stdout",
          "text": [
            "Median is: 3\n"
          ]
        }
      ]
    },
    {
      "cell_type": "code",
      "metadata": {
        "colab": {
          "base_uri": "https://localhost:8080/"
        },
        "id": "Vm7VZ3SxbtvE",
        "outputId": "0e707828-6120-4503-fa20-b149ab02e121"
      },
      "source": [
        "from collections import Counter\n",
        "\n",
        "n_num = [1, 2, 3, 4, 5, 5]\n",
        "n = len(n_num)\n",
        "  \n",
        "data = Counter(n_num)\n",
        "get_mode = dict(data)\n",
        "mode = [k for k, v in get_mode.items() if v == max(list(data.values()))]\n",
        "  \n",
        "if len(mode) == n:\n",
        "    get_mode = \"No mode found\"\n",
        "else:\n",
        "    get_mode = \"Mode is / are: \" + ', '.join(map(str, mode))\n",
        "      \n",
        "print(get_mode)"
      ],
      "execution_count": 5,
      "outputs": [
        {
          "output_type": "stream",
          "name": "stdout",
          "text": [
            "Mode is / are: 5\n"
          ]
        }
      ]
    },
    {
      "cell_type": "code",
      "metadata": {
        "colab": {
          "base_uri": "https://localhost:8080/"
        },
        "id": "o0yeCxAycyF8",
        "outputId": "43eba1d9-3e57-4ad5-bec2-3bfbdc868dfc"
      },
      "source": [
        "\n",
        "import statistics\n",
        "sample = [1, 2, 3, 4, 5]\n",
        "print(\"Standard Deviation of sample is % s \"\n",
        "                % (statistics.stdev(sample)))"
      ],
      "execution_count": 6,
      "outputs": [
        {
          "output_type": "stream",
          "name": "stdout",
          "text": [
            "Standard Deviation of sample is 1.5811388300841898 \n"
          ]
        }
      ]
    },
    {
      "cell_type": "code",
      "metadata": {
        "colab": {
          "base_uri": "https://localhost:8080/"
        },
        "id": "x9YGpHAzdIS7",
        "outputId": "21a70190-43c6-4155-dd62-0d5a6e95961f"
      },
      "source": [
        "import statistics\n",
        "sample = [2.74, 1.23, 2.63, 2.22, 3, 1.98]\n",
        "print(\"Variance of sample set is % s\" \n",
        "      %(statistics.variance(sample)))"
      ],
      "execution_count": 7,
      "outputs": [
        {
          "output_type": "stream",
          "name": "stdout",
          "text": [
            "Variance of sample set is 0.40924\n"
          ]
        }
      ]
    }
  ]
}